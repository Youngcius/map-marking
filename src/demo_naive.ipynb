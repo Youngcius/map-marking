{
 "cells": [
  {
   "cell_type": "code",
   "execution_count": 1,
   "metadata": {},
   "outputs": [],
   "source": [
    "import time\n",
    "import uiautomator2 as u2\n"
   ]
  },
  {
   "cell_type": "code",
   "execution_count": 2,
   "metadata": {},
   "outputs": [],
   "source": [
    "\n",
    "\n",
    "d = u2.connect('cb29756c')\n",
    "\n",
    "# open Amap\n",
    "d.app_start(\"com.autonavi.minimap\")\n",
    "\n"
   ]
  },
  {
   "cell_type": "code",
   "execution_count": 3,
   "metadata": {},
   "outputs": [],
   "source": [
    "\n",
    "\n",
    "# # 进入新增商家信息界面\n",
    "# # d.xpath('//*[@content-desc=\"反馈\"]/android.widget.RelativeLayout[1]/android.widget.ImageView[1]').click()\n",
    "# # d.xpath('//*[@content-desc=\"反馈\"]').click()\n",
    "d(text='反馈').click()\n",
    "time.sleep(1)\n",
    "d(text=\"新增地点\").click()\n"
   ]
  },
  {
   "cell_type": "code",
   "execution_count": 4,
   "metadata": {},
   "outputs": [],
   "source": [
    "\n",
    "\n",
    "# d.xpath('//com.autonavi.minimap.ajx3.widget.view.SpringScrollView/android.view.ViewGroup[1]/android.view.ViewGroup[1]/android.view.ViewGroup[2]/android.view.ViewGroup[1]/android.view.ViewGroup[1]/android.view.ViewGroup[2]/android.view.ViewGroup[1]/android.view.ViewGroup[1]/android.view.ViewGroup[1]').click()\n",
    "\n",
    "d(text=\"请与门脸挂牌一致\").click()\n",
    "d.xpath('//*[@resource-id=\"com.autonavi.minimap:id/mapInteractiveRelativeLayout\"]/android.widget.RelativeLayout[1]/android.widget.FrameLayout[1]/android.view.ViewGroup[1]/android.view.ViewGroup[1]/android.view.ViewGroup[2]/android.view.ViewGroup[1]/android.view.ViewGroup[1]/android.view.ViewGroup[2]/android.view.ViewGroup[1]').set_text('同福客栈')\n",
    "d(text=\"创建新地点\").click()\n"
   ]
  },
  {
   "cell_type": "code",
   "execution_count": 9,
   "metadata": {},
   "outputs": [],
   "source": [
    "\n",
    "d(text='添加地图位置').click()\n",
    "# TODO: 设置虚拟GPS\n",
    "d.xpath('//*[@resource-id=\"com.autonavi.minimap:id/map_widget_container\"]/android.widget.LinearLayout[2]/android.widget.ListView[1]/android.widget.RelativeLayout[1]/android.widget.RelativeLayout[1]/android.widget.ImageView[1]').click()\n",
    "time.sleep(3)\n",
    "d(text=\"确定\").click()\n",
    "\n",
    "\n"
   ]
  },
  {
   "cell_type": "code",
   "execution_count": 10,
   "metadata": {},
   "outputs": [
    {
     "ename": "XPathElementNotFoundError",
     "evalue": "['//com.autonavi.minimap.ajx3.widget.view.SpringScrollView/android.view.ViewGroup[1]/android.view.ViewGroup[3]/android.widget.ImageView[1]']",
     "output_type": "error",
     "traceback": [
      "\u001b[0;31m---------------------------------------------------------------------------\u001b[0m",
      "\u001b[0;31mXPathElementNotFoundError\u001b[0m                 Traceback (most recent call last)",
      "\u001b[1;32m/Users/jack/git-projects/map-marking/src/demo_naive.ipynb Cell 6\u001b[0m line \u001b[0;36m5\n\u001b[1;32m      <a href='vscode-notebook-cell:/Users/jack/git-projects/map-marking/src/demo_naive.ipynb#W5sZmlsZQ%3D%3D?line=2'>3</a>\u001b[0m d(text\u001b[39m=\u001b[39m\u001b[39m\"\u001b[39m\u001b[39m全部\u001b[39m\u001b[39m\"\u001b[39m)\u001b[39m.\u001b[39mclick()\n\u001b[1;32m      <a href='vscode-notebook-cell:/Users/jack/git-projects/map-marking/src/demo_naive.ipynb#W5sZmlsZQ%3D%3D?line=3'>4</a>\u001b[0m d(text\u001b[39m=\u001b[39m\u001b[39m\"\u001b[39m\u001b[39m地图标注 (2)\u001b[39m\u001b[39m\"\u001b[39m)\u001b[39m.\u001b[39mclick()\n\u001b[0;32m----> <a href='vscode-notebook-cell:/Users/jack/git-projects/map-marking/src/demo_naive.ipynb#W5sZmlsZQ%3D%3D?line=4'>5</a>\u001b[0m d\u001b[39m.\u001b[39mxpath(\u001b[39m'\u001b[39m\u001b[39m//com.autonavi.minimap.ajx3.widget.view.SpringScrollView/android.view.ViewGroup[1]/android.view.ViewGroup[3]/android.widget.ImageView[1]\u001b[39m\u001b[39m'\u001b[39m)\u001b[39m.\u001b[39mclick()\n",
      "File \u001b[0;32m~/opt/miniconda3/envs/android/lib/python3.11/site-packages/uiautomator2/xpath.py:595\u001b[0m, in \u001b[0;36mXPathSelector.click\u001b[0;34m(self, timeout)\u001b[0m\n\u001b[1;32m    593\u001b[0m \u001b[39m\u001b[39m\u001b[39m\"\"\" find element and perform click \"\"\"\u001b[39;00m\n\u001b[1;32m    594\u001b[0m \u001b[39mtry\u001b[39;00m:\n\u001b[0;32m--> 595\u001b[0m     el \u001b[39m=\u001b[39m \u001b[39mself\u001b[39m\u001b[39m.\u001b[39mget(timeout\u001b[39m=\u001b[39mtimeout)\n\u001b[1;32m    596\u001b[0m     el\u001b[39m.\u001b[39mclick()\n\u001b[1;32m    597\u001b[0m \u001b[39mexcept\u001b[39;00m XPathElementNotFoundError:\n",
      "File \u001b[0;32m~/opt/miniconda3/envs/android/lib/python3.11/site-packages/uiautomator2/xpath.py:524\u001b[0m, in \u001b[0;36mXPathSelector.get\u001b[0;34m(self, timeout)\u001b[0m\n\u001b[1;32m    511\u001b[0m \u001b[39m\u001b[39m\u001b[39m\"\"\"\u001b[39;00m\n\u001b[1;32m    512\u001b[0m \u001b[39mGet first matched element\u001b[39;00m\n\u001b[1;32m    513\u001b[0m \n\u001b[0;32m   (...)\u001b[0m\n\u001b[1;32m    521\u001b[0m \u001b[39m    XPathElementNotFoundError\u001b[39;00m\n\u001b[1;32m    522\u001b[0m \u001b[39m\"\"\"\u001b[39;00m\n\u001b[1;32m    523\u001b[0m \u001b[39mif\u001b[39;00m \u001b[39mnot\u001b[39;00m \u001b[39mself\u001b[39m\u001b[39m.\u001b[39mwait(timeout \u001b[39mor\u001b[39;00m \u001b[39mself\u001b[39m\u001b[39m.\u001b[39m_global_timeout):\n\u001b[0;32m--> 524\u001b[0m     \u001b[39mraise\u001b[39;00m XPathElementNotFoundError(\u001b[39mself\u001b[39m\u001b[39m.\u001b[39m_xpath_list)\n\u001b[1;32m    525\u001b[0m \u001b[39mreturn\u001b[39;00m \u001b[39mself\u001b[39m\u001b[39m.\u001b[39mget_last_match()\n",
      "\u001b[0;31mXPathElementNotFoundError\u001b[0m: ['//com.autonavi.minimap.ajx3.widget.view.SpringScrollView/android.view.ViewGroup[1]/android.view.ViewGroup[3]/android.widget.ImageView[1]']"
     ]
    }
   ],
   "source": [
    "\n",
    "d(text=\"上传图片\").click()\n",
    "d(text=\"相册\").click()\n",
    "d(text=\"全部\").click()\n",
    "d(text=\"地图标注 (2)\").click()\n"
   ]
  },
  {
   "cell_type": "code",
   "execution_count": 12,
   "metadata": {},
   "outputs": [],
   "source": [
    "d.xpath('//android.support.v7.widget.RecyclerView/android.view.ViewGroup[1]/android.view.ViewGroup[1]/android.view.ViewGroup[1]/android.view.ViewGroup[1]/android.view.ViewGroup[1]').click()\n"
   ]
  },
  {
   "cell_type": "code",
   "execution_count": 13,
   "metadata": {},
   "outputs": [],
   "source": [
    "\n",
    "#TODO: select according to file names\n",
    "# d.xpath('//android.support.v7.widget.RecyclerView/android.view.ViewGroup[1]/android.view.ViewGroup[1]/android.view.ViewGroup[1]/android.view.ViewGroup[1]/android.view.ViewGroup[1]')\n",
    "\n",
    "\n",
    "d(text=\"确定(1/3)\").click()\n"
   ]
  },
  {
   "cell_type": "code",
   "execution_count": 14,
   "metadata": {},
   "outputs": [
    {
     "name": "stdout",
     "output_type": "stream",
     "text": [
      "uploading...\n",
      "uploading...\n",
      "uploading...\n",
      "uploading...\n",
      "uploading...\n",
      "uploading...\n",
      "uploading...\n",
      "uploading...\n",
      "uploading...\n",
      "uploading...\n",
      "uploading...\n",
      "uploading...\n",
      "uploading...\n"
     ]
    },
    {
     "ename": "KeyboardInterrupt",
     "evalue": "",
     "output_type": "error",
     "traceback": [
      "\u001b[0;31m---------------------------------------------------------------------------\u001b[0m",
      "\u001b[0;31mKeyboardInterrupt\u001b[0m                         Traceback (most recent call last)",
      "\u001b[1;32m/Users/jack/git-projects/map-marking/src/demo_naive.ipynb Cell 9\u001b[0m line \u001b[0;36m4\n\u001b[1;32m      <a href='vscode-notebook-cell:/Users/jack/git-projects/map-marking/src/demo_naive.ipynb#X11sZmlsZQ%3D%3D?line=1'>2</a>\u001b[0m \u001b[39mif\u001b[39;00m(d(text\u001b[39m=\u001b[39m\u001b[39m\"\u001b[39m\u001b[39m上传中\u001b[39m\u001b[39m\"\u001b[39m)\u001b[39m.\u001b[39mexists):\n\u001b[1;32m      <a href='vscode-notebook-cell:/Users/jack/git-projects/map-marking/src/demo_naive.ipynb#X11sZmlsZQ%3D%3D?line=2'>3</a>\u001b[0m     \u001b[39mprint\u001b[39m(\u001b[39m\"\u001b[39m\u001b[39muploading...\u001b[39m\u001b[39m\"\u001b[39m)\n\u001b[0;32m----> <a href='vscode-notebook-cell:/Users/jack/git-projects/map-marking/src/demo_naive.ipynb#X11sZmlsZQ%3D%3D?line=3'>4</a>\u001b[0m     time\u001b[39m.\u001b[39msleep(\u001b[39m0.5\u001b[39m)\n\u001b[1;32m      <a href='vscode-notebook-cell:/Users/jack/git-projects/map-marking/src/demo_naive.ipynb#X11sZmlsZQ%3D%3D?line=4'>5</a>\u001b[0m \u001b[39melse\u001b[39;00m:\n\u001b[1;32m      <a href='vscode-notebook-cell:/Users/jack/git-projects/map-marking/src/demo_naive.ipynb#X11sZmlsZQ%3D%3D?line=5'>6</a>\u001b[0m     \u001b[39mprint\u001b[39m(\u001b[39m\"\u001b[39m\u001b[39mupload finished\u001b[39m\u001b[39m\"\u001b[39m)\n",
      "\u001b[0;31mKeyboardInterrupt\u001b[0m: "
     ]
    }
   ],
   "source": [
    "\n",
    "\n",
    "while True:\n",
    "    if(d(text=\"上传中\").exists):\n",
    "        print(\"uploading...\")\n",
    "        time.sleep(0.5)\n",
    "    else:\n",
    "        print(\"upload finished\")\n",
    "        break\n",
    "\n",
    "# # add other info (Tel, Time, etc.)\n",
    "# 高德地图添加电话需要短信验证码……\n",
    "# d(text=\"添加营业电话\").click()\n",
    "# d(text=\"添加手机号\").click() # TODO: distinguish 手机 or 座机\n",
    "\n",
    "\n",
    "\n",
    "d(text=\"提交\").click()\n",
    "\n",
    "\n"
   ]
  },
  {
   "cell_type": "code",
   "execution_count": null,
   "metadata": {},
   "outputs": [],
   "source": []
  }
 ],
 "metadata": {
  "kernelspec": {
   "display_name": "android",
   "language": "python",
   "name": "python3"
  },
  "language_info": {
   "codemirror_mode": {
    "name": "ipython",
    "version": 3
   },
   "file_extension": ".py",
   "mimetype": "text/x-python",
   "name": "python",
   "nbconvert_exporter": "python",
   "pygments_lexer": "ipython3",
   "version": "3.11.5"
  }
 },
 "nbformat": 4,
 "nbformat_minor": 2
}
