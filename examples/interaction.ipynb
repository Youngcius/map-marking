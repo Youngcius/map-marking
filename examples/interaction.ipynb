{
 "cells": [
  {
   "cell_type": "code",
   "execution_count": 1,
   "metadata": {},
   "outputs": [],
   "source": [
    "import time\n",
    "import uiautomator2 as u2\n",
    "from datetime import datetime\n",
    "from rich.console import Console\n",
    "console = Console()\n"
   ]
  },
  {
   "cell_type": "code",
   "execution_count": 4,
   "metadata": {},
   "outputs": [],
   "source": [
    "# device = u2.connect('cb29756c')\n",
    "device = u2.connect('http://169:231:87:203')\n"
   ]
  },
  {
   "cell_type": "code",
   "execution_count": 5,
   "metadata": {},
   "outputs": [
    {
     "ename": "InvalidURL",
     "evalue": "Failed to parse: http://169:231:87:203/info",
     "output_type": "error",
     "traceback": [
      "\u001b[0;31m---------------------------------------------------------------------------\u001b[0m",
      "\u001b[0;31mLocationParseError\u001b[0m                        Traceback (most recent call last)",
      "File \u001b[0;32m~/miniconda3/envs/android/lib/python3.11/site-packages/requests/models.py:434\u001b[0m, in \u001b[0;36mPreparedRequest.prepare_url\u001b[0;34m(self, url, params)\u001b[0m\n\u001b[1;32m    433\u001b[0m \u001b[39mtry\u001b[39;00m:\n\u001b[0;32m--> 434\u001b[0m     scheme, auth, host, port, path, query, fragment \u001b[39m=\u001b[39m parse_url(url)\n\u001b[1;32m    435\u001b[0m \u001b[39mexcept\u001b[39;00m LocationParseError \u001b[39mas\u001b[39;00m e:\n",
      "File \u001b[0;32m~/miniconda3/envs/android/lib/python3.11/site-packages/urllib3/util/url.py:397\u001b[0m, in \u001b[0;36mparse_url\u001b[0;34m(url)\u001b[0m\n\u001b[1;32m    396\u001b[0m \u001b[39mexcept\u001b[39;00m (\u001b[39mValueError\u001b[39;00m, \u001b[39mAttributeError\u001b[39;00m):\n\u001b[0;32m--> 397\u001b[0m     \u001b[39mreturn\u001b[39;00m six\u001b[39m.\u001b[39mraise_from(LocationParseError(source_url), \u001b[39mNone\u001b[39;00m)\n\u001b[1;32m    399\u001b[0m \u001b[39m# For the sake of backwards compatibility we put empty\u001b[39;00m\n\u001b[1;32m    400\u001b[0m \u001b[39m# string values for path if there are any defined values\u001b[39;00m\n\u001b[1;32m    401\u001b[0m \u001b[39m# beyond the path in the URL.\u001b[39;00m\n\u001b[1;32m    402\u001b[0m \u001b[39m# TODO: Remove this when we break backwards compatibility.\u001b[39;00m\n",
      "File \u001b[0;32m<string>:3\u001b[0m, in \u001b[0;36mraise_from\u001b[0;34m(value, from_value)\u001b[0m\n",
      "\u001b[0;31mLocationParseError\u001b[0m: Failed to parse: http://169:231:87:203/info",
      "\nDuring handling of the above exception, another exception occurred:\n",
      "\u001b[0;31mInvalidURL\u001b[0m                                Traceback (most recent call last)",
      "\u001b[1;32m/home/rose/git-projects/map-marking/examples/interaction.ipynb Cell 3\u001b[0m line \u001b[0;36m1\n\u001b[0;32m----> <a href='vscode-notebook-cell:/home/rose/git-projects/map-marking/examples/interaction.ipynb#W3sZmlsZQ%3D%3D?line=0'>1</a>\u001b[0m console\u001b[39m.\u001b[39mprint(device\u001b[39m.\u001b[39mdevice_info)\n",
      "File \u001b[0;32m~/miniconda3/envs/android/lib/python3.11/site-packages/cached_property.py:36\u001b[0m, in \u001b[0;36mcached_property.__get__\u001b[0;34m(self, obj, cls)\u001b[0m\n\u001b[1;32m     33\u001b[0m \u001b[39mif\u001b[39;00m asyncio \u001b[39mand\u001b[39;00m asyncio\u001b[39m.\u001b[39miscoroutinefunction(\u001b[39mself\u001b[39m\u001b[39m.\u001b[39mfunc):\n\u001b[1;32m     34\u001b[0m     \u001b[39mreturn\u001b[39;00m \u001b[39mself\u001b[39m\u001b[39m.\u001b[39m_wrap_in_coroutine(obj)\n\u001b[0;32m---> 36\u001b[0m value \u001b[39m=\u001b[39m obj\u001b[39m.\u001b[39m\u001b[39m__dict__\u001b[39m[\u001b[39mself\u001b[39m\u001b[39m.\u001b[39mfunc\u001b[39m.\u001b[39m\u001b[39m__name__\u001b[39m] \u001b[39m=\u001b[39m \u001b[39mself\u001b[39m\u001b[39m.\u001b[39mfunc(obj)\n\u001b[1;32m     37\u001b[0m \u001b[39mreturn\u001b[39;00m value\n",
      "File \u001b[0;32m~/miniconda3/envs/android/lib/python3.11/site-packages/uiautomator2/__init__.py:883\u001b[0m, in \u001b[0;36m_Device.device_info\u001b[0;34m(self)\u001b[0m\n\u001b[1;32m    881\u001b[0m \u001b[39m@cached_property\u001b[39m\n\u001b[1;32m    882\u001b[0m \u001b[39mdef\u001b[39;00m \u001b[39mdevice_info\u001b[39m(\u001b[39mself\u001b[39m):\n\u001b[0;32m--> 883\u001b[0m     \u001b[39mreturn\u001b[39;00m \u001b[39mself\u001b[39m\u001b[39m.\u001b[39mhttp\u001b[39m.\u001b[39mget(\u001b[39m\"\u001b[39m\u001b[39m/info\u001b[39m\u001b[39m\"\u001b[39m)\u001b[39m.\u001b[39mjson()\n",
      "File \u001b[0;32m~/miniconda3/envs/android/lib/python3.11/site-packages/requests/sessions.py:602\u001b[0m, in \u001b[0;36mSession.get\u001b[0;34m(self, url, **kwargs)\u001b[0m\n\u001b[1;32m    594\u001b[0m \u001b[39m\u001b[39m\u001b[39mr\u001b[39m\u001b[39m\"\"\"Sends a GET request. Returns :class:`Response` object.\u001b[39;00m\n\u001b[1;32m    595\u001b[0m \n\u001b[1;32m    596\u001b[0m \u001b[39m:param url: URL for the new :class:`Request` object.\u001b[39;00m\n\u001b[1;32m    597\u001b[0m \u001b[39m:param \\*\\*kwargs: Optional arguments that ``request`` takes.\u001b[39;00m\n\u001b[1;32m    598\u001b[0m \u001b[39m:rtype: requests.Response\u001b[39;00m\n\u001b[1;32m    599\u001b[0m \u001b[39m\"\"\"\u001b[39;00m\n\u001b[1;32m    601\u001b[0m kwargs\u001b[39m.\u001b[39msetdefault(\u001b[39m\"\u001b[39m\u001b[39mallow_redirects\u001b[39m\u001b[39m\"\u001b[39m, \u001b[39mTrue\u001b[39;00m)\n\u001b[0;32m--> 602\u001b[0m \u001b[39mreturn\u001b[39;00m \u001b[39mself\u001b[39m\u001b[39m.\u001b[39mrequest(\u001b[39m\"\u001b[39m\u001b[39mGET\u001b[39m\u001b[39m\"\u001b[39m, url, \u001b[39m*\u001b[39m\u001b[39m*\u001b[39mkwargs)\n",
      "File \u001b[0;32m~/miniconda3/envs/android/lib/python3.11/site-packages/uiautomator2/__init__.py:203\u001b[0m, in \u001b[0;36m_AgentRequestSession.request\u001b[0;34m(self, method, url, **kwargs)\u001b[0m\n\u001b[1;32m    200\u001b[0m \u001b[39mtry\u001b[39;00m:\n\u001b[1;32m    201\u001b[0m     \u001b[39m# may raise adbutils.AdbError when device offline\u001b[39;00m\n\u001b[1;32m    202\u001b[0m     url \u001b[39m=\u001b[39m \u001b[39mself\u001b[39m\u001b[39m.\u001b[39m__client\u001b[39m.\u001b[39mpath2url(url)\n\u001b[0;32m--> 203\u001b[0m     \u001b[39mreturn\u001b[39;00m \u001b[39msuper\u001b[39m()\u001b[39m.\u001b[39mrequest(method, url, \u001b[39m*\u001b[39m\u001b[39m*\u001b[39mkwargs)\n\u001b[1;32m    204\u001b[0m \u001b[39mexcept\u001b[39;00m (requests\u001b[39m.\u001b[39mConnectionError, requests\u001b[39m.\u001b[39mReadTimeout,\n\u001b[1;32m    205\u001b[0m         adbutils\u001b[39m.\u001b[39mAdbError) \u001b[39mas\u001b[39;00m e:\n\u001b[1;32m    206\u001b[0m     \u001b[39mif\u001b[39;00m \u001b[39mnot\u001b[39;00m retry:\n",
      "File \u001b[0;32m~/miniconda3/envs/android/lib/python3.11/site-packages/uiautomator2/__init__.py:119\u001b[0m, in \u001b[0;36mTimeoutRequestsSession.request\u001b[0;34m(self, method, url, **kwargs)\u001b[0m\n\u001b[1;32m    115\u001b[0m     \u001b[39mprint\u001b[39m(datetime\u001b[39m.\u001b[39mnow()\u001b[39m.\u001b[39mstrftime(\u001b[39m\"\u001b[39m\u001b[39m%\u001b[39m\u001b[39mH:\u001b[39m\u001b[39m%\u001b[39m\u001b[39mM:\u001b[39m\u001b[39m%\u001b[39m\u001b[39mS.\u001b[39m\u001b[39m%f\u001b[39;00m\u001b[39m\"\u001b[39m)[:\u001b[39m-\u001b[39m\u001b[39m3\u001b[39m],\n\u001b[1;32m    116\u001b[0m           \u001b[39m\"\u001b[39m\u001b[39m$ curl -X \u001b[39m\u001b[39m{method}\u001b[39;00m\u001b[39m -d \u001b[39m\u001b[39m'\u001b[39m\u001b[39m{data}\u001b[39;00m\u001b[39m'\u001b[39m\u001b[39m \u001b[39m\u001b[39m'\u001b[39m\u001b[39m{url}\u001b[39;00m\u001b[39m'\u001b[39m\u001b[39m\"\u001b[39m\u001b[39m.\u001b[39mformat(\n\u001b[1;32m    117\u001b[0m               method\u001b[39m=\u001b[39mmethod, url\u001b[39m=\u001b[39murl, data\u001b[39m=\u001b[39mdata))  \u001b[39m# yaml: disable\u001b[39;00m\n\u001b[1;32m    118\u001b[0m \u001b[39mtry\u001b[39;00m:\n\u001b[0;32m--> 119\u001b[0m     resp \u001b[39m=\u001b[39m \u001b[39msuper\u001b[39m(TimeoutRequestsSession,\n\u001b[1;32m    120\u001b[0m                  \u001b[39mself\u001b[39m)\u001b[39m.\u001b[39mrequest(method, url, \u001b[39m*\u001b[39m\u001b[39m*\u001b[39mkwargs)\n\u001b[1;32m    121\u001b[0m \u001b[39mexcept\u001b[39;00m requests\u001b[39m.\u001b[39mConnectionError \u001b[39mas\u001b[39;00m e:\n\u001b[1;32m    122\u001b[0m     \u001b[39m# High possibly atx-agent is down\u001b[39;00m\n\u001b[1;32m    123\u001b[0m     \u001b[39mraise\u001b[39;00m\n",
      "File \u001b[0;32m~/miniconda3/envs/android/lib/python3.11/site-packages/requests/sessions.py:575\u001b[0m, in \u001b[0;36mSession.request\u001b[0;34m(self, method, url, params, data, headers, cookies, files, auth, timeout, allow_redirects, proxies, hooks, stream, verify, cert, json)\u001b[0m\n\u001b[1;32m    562\u001b[0m \u001b[39m# Create the Request.\u001b[39;00m\n\u001b[1;32m    563\u001b[0m req \u001b[39m=\u001b[39m Request(\n\u001b[1;32m    564\u001b[0m     method\u001b[39m=\u001b[39mmethod\u001b[39m.\u001b[39mupper(),\n\u001b[1;32m    565\u001b[0m     url\u001b[39m=\u001b[39murl,\n\u001b[0;32m   (...)\u001b[0m\n\u001b[1;32m    573\u001b[0m     hooks\u001b[39m=\u001b[39mhooks,\n\u001b[1;32m    574\u001b[0m )\n\u001b[0;32m--> 575\u001b[0m prep \u001b[39m=\u001b[39m \u001b[39mself\u001b[39m\u001b[39m.\u001b[39mprepare_request(req)\n\u001b[1;32m    577\u001b[0m proxies \u001b[39m=\u001b[39m proxies \u001b[39mor\u001b[39;00m {}\n\u001b[1;32m    579\u001b[0m settings \u001b[39m=\u001b[39m \u001b[39mself\u001b[39m\u001b[39m.\u001b[39mmerge_environment_settings(\n\u001b[1;32m    580\u001b[0m     prep\u001b[39m.\u001b[39murl, proxies, stream, verify, cert\n\u001b[1;32m    581\u001b[0m )\n",
      "File \u001b[0;32m~/miniconda3/envs/android/lib/python3.11/site-packages/requests/sessions.py:486\u001b[0m, in \u001b[0;36mSession.prepare_request\u001b[0;34m(self, request)\u001b[0m\n\u001b[1;32m    483\u001b[0m     auth \u001b[39m=\u001b[39m get_netrc_auth(request\u001b[39m.\u001b[39murl)\n\u001b[1;32m    485\u001b[0m p \u001b[39m=\u001b[39m PreparedRequest()\n\u001b[0;32m--> 486\u001b[0m p\u001b[39m.\u001b[39mprepare(\n\u001b[1;32m    487\u001b[0m     method\u001b[39m=\u001b[39mrequest\u001b[39m.\u001b[39mmethod\u001b[39m.\u001b[39mupper(),\n\u001b[1;32m    488\u001b[0m     url\u001b[39m=\u001b[39mrequest\u001b[39m.\u001b[39murl,\n\u001b[1;32m    489\u001b[0m     files\u001b[39m=\u001b[39mrequest\u001b[39m.\u001b[39mfiles,\n\u001b[1;32m    490\u001b[0m     data\u001b[39m=\u001b[39mrequest\u001b[39m.\u001b[39mdata,\n\u001b[1;32m    491\u001b[0m     json\u001b[39m=\u001b[39mrequest\u001b[39m.\u001b[39mjson,\n\u001b[1;32m    492\u001b[0m     headers\u001b[39m=\u001b[39mmerge_setting(\n\u001b[1;32m    493\u001b[0m         request\u001b[39m.\u001b[39mheaders, \u001b[39mself\u001b[39m\u001b[39m.\u001b[39mheaders, dict_class\u001b[39m=\u001b[39mCaseInsensitiveDict\n\u001b[1;32m    494\u001b[0m     ),\n\u001b[1;32m    495\u001b[0m     params\u001b[39m=\u001b[39mmerge_setting(request\u001b[39m.\u001b[39mparams, \u001b[39mself\u001b[39m\u001b[39m.\u001b[39mparams),\n\u001b[1;32m    496\u001b[0m     auth\u001b[39m=\u001b[39mmerge_setting(auth, \u001b[39mself\u001b[39m\u001b[39m.\u001b[39mauth),\n\u001b[1;32m    497\u001b[0m     cookies\u001b[39m=\u001b[39mmerged_cookies,\n\u001b[1;32m    498\u001b[0m     hooks\u001b[39m=\u001b[39mmerge_hooks(request\u001b[39m.\u001b[39mhooks, \u001b[39mself\u001b[39m\u001b[39m.\u001b[39mhooks),\n\u001b[1;32m    499\u001b[0m )\n\u001b[1;32m    500\u001b[0m \u001b[39mreturn\u001b[39;00m p\n",
      "File \u001b[0;32m~/miniconda3/envs/android/lib/python3.11/site-packages/requests/models.py:368\u001b[0m, in \u001b[0;36mPreparedRequest.prepare\u001b[0;34m(self, method, url, headers, files, data, params, auth, cookies, hooks, json)\u001b[0m\n\u001b[1;32m    365\u001b[0m \u001b[39m\u001b[39m\u001b[39m\"\"\"Prepares the entire request with the given parameters.\"\"\"\u001b[39;00m\n\u001b[1;32m    367\u001b[0m \u001b[39mself\u001b[39m\u001b[39m.\u001b[39mprepare_method(method)\n\u001b[0;32m--> 368\u001b[0m \u001b[39mself\u001b[39m\u001b[39m.\u001b[39mprepare_url(url, params)\n\u001b[1;32m    369\u001b[0m \u001b[39mself\u001b[39m\u001b[39m.\u001b[39mprepare_headers(headers)\n\u001b[1;32m    370\u001b[0m \u001b[39mself\u001b[39m\u001b[39m.\u001b[39mprepare_cookies(cookies)\n",
      "File \u001b[0;32m~/miniconda3/envs/android/lib/python3.11/site-packages/requests/models.py:436\u001b[0m, in \u001b[0;36mPreparedRequest.prepare_url\u001b[0;34m(self, url, params)\u001b[0m\n\u001b[1;32m    434\u001b[0m     scheme, auth, host, port, path, query, fragment \u001b[39m=\u001b[39m parse_url(url)\n\u001b[1;32m    435\u001b[0m \u001b[39mexcept\u001b[39;00m LocationParseError \u001b[39mas\u001b[39;00m e:\n\u001b[0;32m--> 436\u001b[0m     \u001b[39mraise\u001b[39;00m InvalidURL(\u001b[39m*\u001b[39me\u001b[39m.\u001b[39margs)\n\u001b[1;32m    438\u001b[0m \u001b[39mif\u001b[39;00m \u001b[39mnot\u001b[39;00m scheme:\n\u001b[1;32m    439\u001b[0m     \u001b[39mraise\u001b[39;00m MissingSchema(\n\u001b[1;32m    440\u001b[0m         \u001b[39mf\u001b[39m\u001b[39m\"\u001b[39m\u001b[39mInvalid URL \u001b[39m\u001b[39m{\u001b[39;00murl\u001b[39m!r}\u001b[39;00m\u001b[39m: No scheme supplied. \u001b[39m\u001b[39m\"\u001b[39m\n\u001b[1;32m    441\u001b[0m         \u001b[39mf\u001b[39m\u001b[39m\"\u001b[39m\u001b[39mPerhaps you meant https://\u001b[39m\u001b[39m{\u001b[39;00murl\u001b[39m}\u001b[39;00m\u001b[39m?\u001b[39m\u001b[39m\"\u001b[39m\n\u001b[1;32m    442\u001b[0m     )\n",
      "\u001b[0;31mInvalidURL\u001b[0m: Failed to parse: http://169:231:87:203/info"
     ]
    }
   ],
   "source": [
    "console.print(device.device_info)\n"
   ]
  },
  {
   "cell_type": "code",
   "execution_count": 9,
   "metadata": {},
   "outputs": [],
   "source": [
    "device.screen_on()\n"
   ]
  },
  {
   "cell_type": "code",
   "execution_count": 19,
   "metadata": {},
   "outputs": [
    {
     "data": {
      "text/plain": [
       "False"
      ]
     },
     "execution_count": 19,
     "metadata": {},
     "output_type": "execute_result"
    }
   ],
   "source": [
    "device(scrollable=True).scroll(steps=10)\n"
   ]
  },
  {
   "cell_type": "code",
   "execution_count": 17,
   "metadata": {},
   "outputs": [
    {
     "data": {
      "text/plain": [
       "{'package': 'com.ss.android.ugc.aweme',\n",
       " 'activity': '.bullet.ui.BulletContainerActivity',\n",
       " 'pid': 13162}"
      ]
     },
     "execution_count": 17,
     "metadata": {},
     "output_type": "execute_result"
    }
   ],
   "source": [
    "device.app_current()\n"
   ]
  },
  {
   "cell_type": "code",
   "execution_count": 20,
   "metadata": {},
   "outputs": [
    {
     "data": {
      "text/plain": [
       "{'package': 'com.ss.android.ugc.aweme',\n",
       " 'activity': '.bullet.ui.BulletContainerActivity',\n",
       " 'pid': 13162}"
      ]
     },
     "execution_count": 20,
     "metadata": {},
     "output_type": "execute_result"
    }
   ],
   "source": [
    "device.app_current()\n"
   ]
  },
  {
   "cell_type": "code",
   "execution_count": 23,
   "metadata": {},
   "outputs": [],
   "source": [
    "device(text=\"网易云音乐\").click()\n"
   ]
  },
  {
   "cell_type": "code",
   "execution_count": null,
   "metadata": {},
   "outputs": [],
   "source": []
  }
 ],
 "metadata": {
  "kernelspec": {
   "display_name": "android",
   "language": "python",
   "name": "python3"
  },
  "language_info": {
   "codemirror_mode": {
    "name": "ipython",
    "version": 3
   },
   "file_extension": ".py",
   "mimetype": "text/x-python",
   "name": "python",
   "nbconvert_exporter": "python",
   "pygments_lexer": "ipython3",
   "version": "3.11.5"
  }
 },
 "nbformat": 4,
 "nbformat_minor": 2
}
